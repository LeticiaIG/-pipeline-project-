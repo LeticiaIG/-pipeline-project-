{
 "cells": [
  {
   "cell_type": "code",
   "execution_count": 4,
   "metadata": {},
   "outputs": [],
   "source": [
    "## canvas_coords.py\n",
    "# https://github.com/driscollis/reportlabbookcode/tree/master/chapter1_canvas\n",
    "\n",
    "#https://www.reportlab.com/documentation/\n",
    "\n",
    "# https://recursospython.com/guias-y-manuales/crear-documentos-pdf-en-python-con-reportlab/\n",
    "    \n",
    "from reportlab.pdfgen import canvas\n",
    "from reportlab.lib.pagesizes import A4\n",
    "#from reportlab.lib.units import image\n",
    "\n",
    "# creamos una instancia de la clase canvas.Canvas \n",
    "#pasándole como argumento el nombre o la ruta del archivo que queremos generar, \n",
    "#y por último invocamos el método Canvas.save() \n",
    "#que guarda efectivamente los cambios en el documento.\n",
    "\n",
    "w,h = A4\n",
    "c = canvas.Canvas('SecurityPublicSpace.pdf', pagesize= A4)\n",
    "\n",
    "c.setFillColorRGB(17, 30, 108)\n",
    "c.setFont(\"Helvetica\", 12)\n",
    "\n",
    "text = c.beginText(50, h - 50)\n",
    "text.setFont(\"Helvetica\", 9)\n",
    "\n",
    "    #Vía el método textLine() añadimos líneas de texto a nuestro objeto.\n",
    "#text.textLine(\"¡Hola, mundo!\")\n",
    "#text.textLine(\"¡Desde ReportLab\\ny Python!\")   # SOPORTA SALTOS DE LÍNEA\n",
    "\n",
    "    # una vez escrito el texto, lo dibujamos en la hoja\n",
    "# c.drawText(text)\n",
    "\n",
    "    # añadir imagen. RUTA; y dónde\n",
    "#c.drawImage(\"logo.png\", 50, h - 200)\n",
    "\n",
    "\n",
    "\n",
    "c.rect(50, h - 150, 50, 50, fill=True)\n",
    "#c.drawString(*coord(15, 20, height, mm), text=\"Crime in pubic space of Madrid\")\n",
    "c.drawString(30, h - 50, \"Línea\")\n",
    "# c.drawString(50, 50, \"¡Hola, mundo!\")\n",
    "c.showPage()\n",
    "c.save()\n",
    "# la posición en Y aumenta a medida que sube en la pantalla, \n",
    "# y la posición en X a medida que se corre hacia la derecha. \n",
    "\n",
    "\n",
    "# Una hoja A4 está constituida por 595.2 puntos de ancho (width) \n",
    "#y 841.8 puntos de alto (height)"
   ]
  },
  {
   "cell_type": "code",
   "execution_count": 3,
   "metadata": {},
   "outputs": [
    {
     "name": "stdout",
     "output_type": "stream",
     "text": [
      "<reportlab.pdfgen.canvas.Canvas object at 0x105de74e0>\n"
     ]
    }
   ],
   "source": [
    "print(c)"
   ]
  },
  {
   "cell_type": "markdown",
   "metadata": {},
   "source": [
    "from reportlab.lib import colors\n",
    "\n",
    "def color_demo():\n",
    "    my_canvas = canvas.Canvas(\"colors.pdf\",\n",
    "                              pagesize=A4)\n",
    "    my_canvas.setFont('Helvetica', 10)\n",
    "    x = 30\n",
    "\n",
    "    sample_colors = [colors.aliceblue,\n",
    "                     colors.aquamarine,\n",
    "                     colors.lavender,\n",
    "                     colors.beige,\n",
    "                     colors.chocolate]\n",
    "\n",
    "    for color in sample_colors:\n",
    "        my_canvas.setFillColor(color)\n",
    "        my_canvas.circle(x, 730, 20, fill=1)\n",
    "        color_str = \"{color}\".format(color=color._lookupName())\n",
    "        my_canvas.setFillColor(colors.black)\n",
    "        my_canvas.drawString(x-10, 700, color_str)\n",
    "        x += 75\n",
    "\n",
    "    my_canvas.save()\n",
    "\n",
    "if __name__ == '__main__':\n",
    "    color_demo()\n",
    "    \n",
    "    \n",
    "    \n",
    "    \n",
    "def add_image(image_path):\n",
    "    my_canvas = canvas.Canvas(\"canvas_image.pdf\",\n",
    "                              pagesize=letter)\n",
    "    my_canvas.drawImage(image_path, 30, 600,\n",
    "                        width=100, height=100)\n",
    "    my_canvas.save()\n",
    "\n",
    "    \n",
    "if __name__ == '__main__':\n",
    "    image_path = 'snakehead.jpg'\n",
    "    add_image(image_path)\n",
    "    \n",
    "\n",
    "    \n",
    "    def add_image(image_path):\n",
    "    my_canvas = canvas.Canvas(\"canvas_image.pdf\",\n",
    "                              pagesize=letter)\n",
    "    my_canvas.drawImage(image_path, 30, 600,\n",
    "                        width=100, height=100)\n",
    "    my_canvas.save()\n",
    "\n",
    "if __name__ == '__main__':\n",
    "    image_path = 'snakehead.jpg'\n",
    "    add_image(image_path)"
   ]
  }
 ],
 "metadata": {
  "kernelspec": {
   "display_name": "Python 3",
   "language": "python",
   "name": "python3"
  },
  "language_info": {
   "codemirror_mode": {
    "name": "ipython",
    "version": 3
   },
   "file_extension": ".py",
   "mimetype": "text/x-python",
   "name": "python",
   "nbconvert_exporter": "python",
   "pygments_lexer": "ipython3",
   "version": "3.7.3"
  }
 },
 "nbformat": 4,
 "nbformat_minor": 2
}
